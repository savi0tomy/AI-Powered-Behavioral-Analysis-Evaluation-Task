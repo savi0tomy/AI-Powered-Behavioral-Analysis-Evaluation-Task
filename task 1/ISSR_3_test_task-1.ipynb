{
  "nbformat": 4,
  "nbformat_minor": 0,
  "metadata": {
    "colab": {
      "provenance": [],
      "authorship_tag": "ABX9TyM22B40djYl2a7gGWPD9PT+"
    },
    "kernelspec": {
      "name": "python3",
      "display_name": "Python 3"
    },
    "language_info": {
      "name": "python"
    }
  },
  "cells": [
    {
      "cell_type": "code",
      "source": [
        "!pip install praw"
      ],
      "metadata": {
        "colab": {
          "base_uri": "https://localhost:8080/"
        },
        "id": "XM3C-9u4rbMX",
        "outputId": "259a712a-91aa-4aa8-8e6f-bba8e94a4d3d"
      },
      "execution_count": 3,
      "outputs": [
        {
          "output_type": "stream",
          "name": "stdout",
          "text": [
            "Collecting praw\n",
            "  Downloading praw-7.8.1-py3-none-any.whl.metadata (9.4 kB)\n",
            "Collecting prawcore<3,>=2.4 (from praw)\n",
            "  Downloading prawcore-2.4.0-py3-none-any.whl.metadata (5.0 kB)\n",
            "Collecting update_checker>=0.18 (from praw)\n",
            "  Downloading update_checker-0.18.0-py3-none-any.whl.metadata (2.3 kB)\n",
            "Requirement already satisfied: websocket-client>=0.54.0 in /usr/local/lib/python3.11/dist-packages (from praw) (1.8.0)\n",
            "Requirement already satisfied: requests<3.0,>=2.6.0 in /usr/local/lib/python3.11/dist-packages (from prawcore<3,>=2.4->praw) (2.32.3)\n",
            "Requirement already satisfied: charset-normalizer<4,>=2 in /usr/local/lib/python3.11/dist-packages (from requests<3.0,>=2.6.0->prawcore<3,>=2.4->praw) (3.4.1)\n",
            "Requirement already satisfied: idna<4,>=2.5 in /usr/local/lib/python3.11/dist-packages (from requests<3.0,>=2.6.0->prawcore<3,>=2.4->praw) (3.10)\n",
            "Requirement already satisfied: urllib3<3,>=1.21.1 in /usr/local/lib/python3.11/dist-packages (from requests<3.0,>=2.6.0->prawcore<3,>=2.4->praw) (2.3.0)\n",
            "Requirement already satisfied: certifi>=2017.4.17 in /usr/local/lib/python3.11/dist-packages (from requests<3.0,>=2.6.0->prawcore<3,>=2.4->praw) (2025.1.31)\n",
            "Downloading praw-7.8.1-py3-none-any.whl (189 kB)\n",
            "\u001b[2K   \u001b[90m━━━━━━━━━━━━━━━━━━━━━━━━━━━━━━━━━━━━━━━━\u001b[0m \u001b[32m189.3/189.3 kB\u001b[0m \u001b[31m4.2 MB/s\u001b[0m eta \u001b[36m0:00:00\u001b[0m\n",
            "\u001b[?25hDownloading prawcore-2.4.0-py3-none-any.whl (17 kB)\n",
            "Downloading update_checker-0.18.0-py3-none-any.whl (7.0 kB)\n",
            "Installing collected packages: update_checker, prawcore, praw\n",
            "Successfully installed praw-7.8.1 prawcore-2.4.0 update_checker-0.18.0\n"
          ]
        }
      ]
    },
    {
      "cell_type": "code",
      "source": [
        "import logging\n",
        "logging.getLogger(\"praw\").setLevel(logging.ERROR)"
      ],
      "metadata": {
        "id": "q4UX902NrnG8"
      },
      "execution_count": 11,
      "outputs": []
    },
    {
      "cell_type": "code",
      "source": [
        "import praw\n",
        "import pandas as pd\n",
        "import re\n",
        "\n",
        "reddit = praw.Reddit(\n",
        "    client_id=\"Ddx2_gIABdN4rS3cbHzfRw\",\n",
        "    client_secret=\"M9lYH7DDd6e5DS0erQ1by-MPFArSew\",\n",
        "    user_agent=\"behavioral-analysis\"\n",
        ")\n",
        "\n",
        "keywords= [\"I hate myself\", \"tired of life\",\"no reason to live\",\"can't stop drinking\",\"giving up\",\"relapsed\",\"drug problem\",\"someone talk to me\",\"addiction help\",\"ending it\",\"self harm\",\"suicidal\",\"I can't take it anymore\"]\n",
        "subreddits = [\"depression\", \"Anxiety\", \"SuicideWatch\", \"addiction\", \"mentalhealth\", \"self\",\"BPD\",\"depression_help\",\"stopdrinking\",\"offmychest\"]\n",
        "\n",
        "EXCLUDE_PHRASES = [\n",
        "    \"I apologize\", \"If you're struggling\", \"Here are some resources\",\n",
        "    \"call this number\", \"for more information\", \"I'm sorry\", \"take care\",\n",
        "    \"reach out\", \"helpline\", \"contact support\", \"resources for help\"\n",
        "]\n",
        "\n",
        "def clean_text(text):\n",
        "    if not text:\n",
        "        return None\n",
        "    text = re.sub(r\"http\\S+|www\\S+\", \"\", text)\n",
        "    text = re.sub(r\"[^a-zA-Z0-9\\s.,!?]\", \"\", text)\n",
        "    text = text.lower()\n",
        "    return text\n",
        "\n",
        "def valid_post(content):\n",
        "    if not any(keyword.lower() in content for keyword in keywords):\n",
        "        return False\n",
        "    if any(phrase.lower() in content for phrase in EXCLUDE_PHRASES):\n",
        "        return False\n",
        "    if len(content.split()) < 10:\n",
        "        return False\n",
        "    return True\n",
        "\n",
        "def fetch_reddit_posts(subreddits, limit=3000):\n",
        "    data = []\n",
        "    for subreddit in subreddits:\n",
        "        print(f\"Scraping r/{subreddit}...\")\n",
        "        for post in reddit.subreddit(subreddit).new(limit=limit):\n",
        "            content = f\"{post.title} {post.selftext}\"\n",
        "            cleaned_content = clean_text(content)\n",
        "\n",
        "\n",
        "            if cleaned_content and valid_post(cleaned_content):\n",
        "                data.append({\n",
        "                    \"post_id\": post.id,\n",
        "                    \"subreddit\": subreddit,\n",
        "                    \"title\": post.title,\n",
        "                    \"content\": post.selftext,\n",
        "                    \"upvotes\": post.score,\n",
        "                    \"comments\": post.num_comments,\n",
        "                    \"created_at\": post.created_utc\n",
        "                })\n",
        "    return pd.DataFrame(data)\n",
        "reddit_df = fetch_reddit_posts(subreddits)\n",
        "reddit_df.to_csv(\"filtered_reddit_posts.csv\", index=False)\n",
        "\n",
        "print(f\"Saved {len(reddit_df)} filtered posts to filtered_reddit_posts.csv\")\n",
        "print(reddit_df.head())"
      ],
      "metadata": {
        "colab": {
          "base_uri": "https://localhost:8080/"
        },
        "id": "w1laKI6tDfXl",
        "outputId": "3bf360c9-5052-4ccd-922a-f8167603c30e"
      },
      "execution_count": 12,
      "outputs": [
        {
          "output_type": "stream",
          "name": "stdout",
          "text": [
            "Scraping r/depression...\n",
            "Scraping r/Anxiety...\n",
            "Scraping r/SuicideWatch...\n",
            "Scraping r/addiction...\n",
            "Scraping r/mentalhealth...\n",
            "Scraping r/self...\n",
            "Scraping r/BPD...\n",
            "Scraping r/depression_help...\n",
            "Scraping r/stopdrinking...\n",
            "Scraping r/offmychest...\n",
            "Saved 850 filtered posts to filtered_reddit_posts.csv\n",
            "   post_id   subreddit                                              title  \\\n",
            "0  1j7rxfd  depression              I miss my parents despite their abuse   \n",
            "1  1j7plai  depression  its getting really bad. im non functional, los...   \n",
            "2  1j7pcmk  depression             Can someone please say something kind?   \n",
            "3  1j7ocqy  depression           Death seems the only reasonable solution   \n",
            "4  1j7o7ft  depression                                  I wish I was dead   \n",
            "\n",
            "                                             content  upvotes  comments  \\\n",
            "0  This past month I really realized I have no fa...        1         2   \n",
            "1  im 22m and completely going off the rails. dep...        6         2   \n",
            "2    \\nHi, I'm 27F and have been unemployed for a...        4         9   \n",
            "3  Treatment resistant depression and the associa...        6         1   \n",
            "4  I’m sick of treatment that doesn’t help. I’ve ...        1         0   \n",
            "\n",
            "     created_at  \n",
            "0  1.741586e+09  \n",
            "1  1.741577e+09  \n",
            "2  1.741577e+09  \n",
            "3  1.741573e+09  \n",
            "4  1.741573e+09  \n"
          ]
        }
      ]
    },
    {
      "cell_type": "code",
      "source": [],
      "metadata": {
        "id": "3Bxv24uMuwEI"
      },
      "execution_count": null,
      "outputs": []
    }
  ]
}